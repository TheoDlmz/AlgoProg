{
 "cells": [
  {
   "cell_type": "code",
   "execution_count": 2,
   "metadata": {},
   "outputs": [],
   "source": [
    "import numpy as np\n",
    "import time "
   ]
  },
  {
   "cell_type": "markdown",
   "metadata": {},
   "source": [
    "# Exercice 1\n",
    "\n",
    "On implémente d'abord la multiplication naïve. Mais on ne s'autorise que les multiplications de nombre à un chiffre. \n",
    "Pour ça, on utilise la méthode vu en CE2 (une adaptation, du moins).\n",
    "\n",
    "L'idée est la suivante, si on veut multiplier deux nombre x = 1234 et y = 5678, on fait \n",
    "$$\n",
    "x \\times y = 4*5678 + 10*(3*5678 + 10*(2*5678 + 10*(1*5678)))\n",
    "$$\n",
    "\n",
    "Puis pour multiplier un nimbre à un chiffre avec un nombre long, on fait la même chose:\n",
    "\n",
    "$$\n",
    "a*y = a*8 + 10*(a*7 + 10*(a*6+10*(a*5)))\n",
    "$$\n",
    "\n",
    "Si on implémente, on obtient:"
   ]
  },
  {
   "cell_type": "code",
   "execution_count": 3,
   "metadata": {},
   "outputs": [
    {
     "data": {
      "text/plain": [
       "144"
      ]
     },
     "execution_count": 3,
     "metadata": {},
     "output_type": "execute_result"
    }
   ],
   "source": [
    "def multiplication_naive(x,y):\n",
    "    if x < 10 and y < 10:\n",
    "        return x*y\n",
    "    elif x < 10 and y >= 10:\n",
    "        yq, yr = divmod(y,10)\n",
    "        return x*(yr) + multiplication_naive(x,yq)*10\n",
    "    elif y < 10 and x >= 10:\n",
    "        return multiplication_naive(y,x)\n",
    "    else:\n",
    "        xq, xr = divmod(x,10)\n",
    "        return multiplication_naive(xq,y)*10 + multiplication_naive(xr,y)\n",
    "    \n",
    "\n",
    "multiplication_naive(12,12)"
   ]
  },
  {
   "cell_type": "markdown",
   "metadata": {},
   "source": [
    "Maintenant, on considère que $x = a\\dot 10^k + b$ et $y = c \\dot 10^k + d$. Par exemple $1234 = 12 \\dot 10^2 + 34$. Dans ce cas on a\n",
    "\n",
    "$$\n",
    "x \\times y = (a\\dot 10^k+ b) \\times (c \\dot 10^k + d) = ac \\dot 10^{2k} + (ad + cb)\\dot 10^k + bd\n",
    "$$\n",
    "\n"
   ]
  },
  {
   "cell_type": "code",
   "execution_count": 4,
   "metadata": {},
   "outputs": [
    {
     "data": {
      "text/plain": [
       "144"
      ]
     },
     "execution_count": 4,
     "metadata": {},
     "output_type": "execute_result"
    }
   ],
   "source": [
    "def multiplication_div(x,y):\n",
    "    if x < 10 and y < 10:\n",
    "        return x*y\n",
    "    elif x < 10 and y >= 10:\n",
    "        n = len(str(y))\n",
    "        k = n//2\n",
    "        bigmod = 10**k\n",
    "        yq, yr = divmod(y,bigmod)\n",
    "        return multiplication_div(x,yr) + multiplication_div(x,yq)*bigmod\n",
    "    elif y < 10 and x >= 10:\n",
    "        return multiplication_naive(y,x)\n",
    "    else:\n",
    "        n = max(len(str(x)), len(str(y)))\n",
    "        k = n//2\n",
    "        bigmod = 10**k\n",
    "        yq, yr = divmod(y,bigmod)\n",
    "        xq, xr = divmod(x,bigmod)\n",
    "        return multiplication_div(xq,yq)*bigmod**2 + (multiplication_div(xq,yr) + multiplication_div(xr,yq))*bigmod + multiplication_div(xr,yr)\n",
    "    \n",
    "    \n",
    "\n",
    "multiplication_div(12,12)"
   ]
  },
  {
   "cell_type": "markdown",
   "metadata": {},
   "source": [
    "Sauf que Karatsuba s'est rendu compte qu'on pouvait faire seulement 3 réccurences au lieu de 4. En effet\n",
    "\n",
    "$$\n",
    "ad + bc = (a+b)(d+c) - bd - ac\n",
    "$$\n",
    "\n",
    "Donc \n",
    "\n",
    "$$\n",
    "x \\times y = ac \\dot 10^{2k} + ((a+b)(d+c) - bd - ac)\\dot 10^k + bd\n",
    "$$\n",
    "\n",
    "Il n'y a cette fois que 3 produit à calculer par réccurence"
   ]
  },
  {
   "cell_type": "code",
   "execution_count": 16,
   "metadata": {},
   "outputs": [
    {
     "data": {
      "text/plain": [
       "144"
      ]
     },
     "execution_count": 16,
     "metadata": {},
     "output_type": "execute_result"
    }
   ],
   "source": [
    "def multiplication_karatsuba(x,y):\n",
    "    if -10 < x < 10 and -10 < y < 10:\n",
    "        return x*y\n",
    "    \n",
    "    n = max(len(str(x)), len(str(y)))\n",
    "    k = n//2\n",
    "\n",
    "    bigmod = 10**k\n",
    "    xq, xr = divmod(x,bigmod)\n",
    "    yq, yr = divmod(y,bigmod)\n",
    "\n",
    "    p1 = multiplication_karatsuba(xq,yq)\n",
    "    p2 = multiplication_karatsuba(xr,yr)\n",
    "    p3 = multiplication_karatsuba(xq+xr,yq+yr)\n",
    "\n",
    "    return p1*bigmod**2 + (p3-p1-p2)*bigmod + p2\n",
    "    \n",
    "\n",
    "multiplication_karatsuba(12,12)"
   ]
  },
  {
   "cell_type": "markdown",
   "metadata": {},
   "source": [
    "Maintenant, on compare le temps d'execution de ces 3 algorithmes:"
   ]
  },
  {
   "cell_type": "code",
   "execution_count": 17,
   "metadata": {},
   "outputs": [
    {
     "name": "stdout",
     "output_type": "stream",
     "text": [
      "multiplication_naive 0.3416571617126465\n",
      "multiplication_div 0.603806734085083\n",
      "multiplication_karatsuba 0.3794379234313965\n"
     ]
    }
   ],
   "source": [
    "nombre_de_tests = 1000\n",
    "\n",
    "functions = [multiplication_naive, multiplication_div, multiplication_karatsuba]\n",
    "\n",
    "for f in functions:\n",
    "    start = time.time()\n",
    "    for i in range(nombre_de_tests):\n",
    "        f(202431231231312982202431231231312982,182421387263186127202431231231312982)\n",
    "    end = time.time()\n",
    "    print(f.__name__, end-start)\n",
    "\n",
    "\n",
    "    "
   ]
  },
  {
   "cell_type": "markdown",
   "metadata": {},
   "source": [
    "Bon en fait la méthode naïve qu'on a proposé au début est pas si mal il semblerait, mais la méthode de Karatsuba est mieux que la deuxième méthode."
   ]
  },
  {
   "cell_type": "markdown",
   "metadata": {},
   "source": [
    "# Exercice 2\n",
    "\n",
    "On implémente l'algorithme mystere"
   ]
  },
  {
   "cell_type": "code",
   "execution_count": 18,
   "metadata": {},
   "outputs": [
    {
     "data": {
      "text/plain": [
       "144"
      ]
     },
     "execution_count": 18,
     "metadata": {},
     "output_type": "execute_result"
    }
   ],
   "source": [
    "def algo_mystere(a,b):\n",
    "    c = 0\n",
    "    while b > 0:\n",
    "        if b%2 == 1:\n",
    "            c = c + a\n",
    "        a = 2*a\n",
    "        b = b//2\n",
    "    return c\n",
    "\n",
    "algo_mystere(12,12)"
   ]
  },
  {
   "cell_type": "markdown",
   "metadata": {},
   "source": [
    "Cette algorithme retourne la valeur $a \\times b$. Il fait la même méthode qu'avant, mais en base 2 au lieu de la base 10. On a \n",
    "\n",
    "$$\n",
    "b = 2^{k_1}+2^{k_2}+2^{k_3}+\\dots+2^{k_l}\n",
    "$$\n",
    "\n",
    "avec $k_1 < k_2 < \\dots < k_l$. Alors si $k_1 =0$, b est impair et on a \n",
    "$$\n",
    "b\\times a = (1 + 2^{k_2} + \\dots + 2^{k_l})\\times a = a + 2*(2^{k_2-1} + \\dots +2^{k_l-1})\\times a = a + (2a) \\times \\left (\\left \\lfloor \\frac{b}{2}\\right \\rfloor \\right )\n",
    "$$\n",
    "\n",
    "Et si $b$ est pair on a juste\n",
    "\n",
    "$$\n",
    "b\\times a = (2^{k_1} + 2^{k_2} + \\dots + 2^{k_l})\\times a = 2*(2^{k_1-1} + \\dots +2^{k_l-1})\\times a = (2a) \\times \\left (\\left \\lfloor \\frac{b}{2}\\right \\rfloor \\right )\n",
    "$$"
   ]
  },
  {
   "cell_type": "markdown",
   "metadata": {},
   "source": [
    "# Exercice 3 \n",
    "\n",
    "On s'en occupe la semaine prochaine... Voici un fonction a completer"
   ]
  },
  {
   "cell_type": "code",
   "execution_count": null,
   "metadata": {},
   "outputs": [],
   "source": [
    "T = [[1,0,0,1],[0,0,1,0],[0,0,0,0],[1,0,0,0]]\n",
    "\n",
    "def contamination(T):\n",
    "    newT = T.copy()\n",
    "    for i in range(len(T)):\n",
    "        for j in range(len(T[0])):\n",
    "            if T[i][j] == 0:\n",
    "                nb_infectes = 0\n",
    "                # On compte le nombre d'infectés. Attention, il y a des cas particuliers\n",
    "                if nb_infectes >= 2:\n",
    "                    # On infecte la case \n",
    "    return newT\n",
    "                "
   ]
  }
 ],
 "metadata": {
  "kernelspec": {
   "display_name": "base",
   "language": "python",
   "name": "python3"
  },
  "language_info": {
   "codemirror_mode": {
    "name": "ipython",
    "version": 3
   },
   "file_extension": ".py",
   "mimetype": "text/x-python",
   "name": "python",
   "nbconvert_exporter": "python",
   "pygments_lexer": "ipython3",
   "version": "3.9.7"
  }
 },
 "nbformat": 4,
 "nbformat_minor": 2
}

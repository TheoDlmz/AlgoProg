{
 "cells": [
  {
   "cell_type": "code",
   "execution_count": 1,
   "metadata": {},
   "outputs": [],
   "source": [
    "import numpy as np"
   ]
  },
  {
   "cell_type": "code",
   "execution_count": 2,
   "metadata": {},
   "outputs": [],
   "source": [
    "candidates = [\"Bi`ere de No ̈el\", \"Vin Chaud\", \"Jus de Carotte bio\", \"Bi`ere IPA\"]"
   ]
  },
  {
   "cell_type": "code",
   "execution_count": 3,
   "metadata": {},
   "outputs": [],
   "source": [
    "classements = [[0,1,2,3],[0,1,2,3],[1,0,2,3], [1,0,2,3], [1,0,2,3], [2,0,1,3], [2,0,1,3], [2,0,1,3], [2,0,1,3]]"
   ]
  },
  {
   "cell_type": "code",
   "execution_count": 5,
   "metadata": {},
   "outputs": [
    {
     "data": {
      "text/plain": [
       "'Jus de Carotte bio'"
      ]
     },
     "execution_count": 5,
     "metadata": {},
     "output_type": "execute_result"
    }
   ],
   "source": [
    "def uninominal1tour(classements, candidats):\n",
    "    scores = [0 for i in range(len(candidats))]\n",
    "    for i in range(len(classements)):\n",
    "        scores[classements[i][0]] += 1\n",
    "    gagnant = np.argmax(scores)\n",
    "    return candidats[gagnant]\n",
    "\n",
    "uninominal1tour(classements, candidates)"
   ]
  },
  {
   "cell_type": "code",
   "execution_count": 9,
   "metadata": {},
   "outputs": [
    {
     "data": {
      "text/plain": [
       "'Vin Chaud'"
      ]
     },
     "execution_count": 9,
     "metadata": {},
     "output_type": "execute_result"
    }
   ],
   "source": [
    "def uninominal2tours(classements, candidats):\n",
    "    scores = [0 for i in range(len(candidats))]\n",
    "    for i in range(len(classements)):\n",
    "        scores[classements[i][0]] += 1\n",
    "    ordre = np.argsort(scores)\n",
    "    finalistes = [ordre[-1], ordre[-2]]\n",
    "    scores_finalistes = [0,0]\n",
    "    for i in range(len(classements)):\n",
    "        for j in range(len(candidats)):\n",
    "            if classements[i][j] == finalistes[0]:\n",
    "                scores_finalistes[0] += 1\n",
    "                break\n",
    "            elif classements[i][j] == finalistes[1]:\n",
    "                scores_finalistes[1] += 1\n",
    "                break\n",
    "    gagnant = np.argmax(scores_finalistes)\n",
    "    return candidats[finalistes[gagnant]]\n",
    "\n",
    "\n",
    "uninominal2tours(classements, candidates)"
   ]
  },
  {
   "cell_type": "code",
   "execution_count": 11,
   "metadata": {},
   "outputs": [
    {
     "data": {
      "text/plain": [
       "'Bi`ere de No ̈el'"
      ]
     },
     "execution_count": 11,
     "metadata": {},
     "output_type": "execute_result"
    }
   ],
   "source": [
    "def borda(classements, candidats):\n",
    "    scores = [0 for i in range(len(candidats))]\n",
    "    for i in range(len(classements)):\n",
    "        for j in range(len(candidats)):\n",
    "            scores[classements[i][j]] += len(candidats)-j-1\n",
    "    gagnant = np.argmax(scores)\n",
    "    return candidats[gagnant]\n",
    "\n",
    "borda(classements, candidates)"
   ]
  },
  {
   "cell_type": "code",
   "execution_count": 23,
   "metadata": {},
   "outputs": [],
   "source": [
    "def domination(classements, cand1, cand2):\n",
    "    domine = 0\n",
    "    for i in range(len(classements)):\n",
    "        for j in range(len(classements[i])):\n",
    "            if classements[i][j] == cand1:\n",
    "                domine += 1\n",
    "                break\n",
    "            elif classements[i][j] == cand2:\n",
    "                domine -= 1\n",
    "                break\n",
    "\n",
    "    if domine > 0:\n",
    "        return True \n",
    "    else:\n",
    "        return False"
   ]
  },
  {
   "cell_type": "code",
   "execution_count": 24,
   "metadata": {},
   "outputs": [],
   "source": [
    "def isCondorcet(classements, cand):\n",
    "    for i in range(len(candidates)):\n",
    "        if i != cand:\n",
    "            if domination(classements, cand, i) == False:\n",
    "                return False\n",
    "    return True"
   ]
  },
  {
   "cell_type": "code",
   "execution_count": 25,
   "metadata": {},
   "outputs": [],
   "source": [
    "def condorcet(classements):\n",
    "    for i in range(len(candidates)):\n",
    "        if isCondorcet(classements, i):\n",
    "            return candidates[i]\n",
    "    return \"Pas de condorcet\""
   ]
  },
  {
   "cell_type": "code",
   "execution_count": 26,
   "metadata": {},
   "outputs": [
    {
     "data": {
      "text/plain": [
       "'Bi`ere de No ̈el'"
      ]
     },
     "execution_count": 26,
     "metadata": {},
     "output_type": "execute_result"
    }
   ],
   "source": [
    "condorcet(classements)"
   ]
  },
  {
   "cell_type": "markdown",
   "metadata": {},
   "source": [
    "Bravo, vous avez lu le corrigé, et jusqu'au bout en plus ! \n",
    "\n",
    "Je vous souhaite de très bonne fêtes !"
   ]
  }
 ],
 "metadata": {
  "kernelspec": {
   "display_name": "Python 3",
   "language": "python",
   "name": "python3"
  },
  "language_info": {
   "codemirror_mode": {
    "name": "ipython",
    "version": 3
   },
   "file_extension": ".py",
   "mimetype": "text/x-python",
   "name": "python",
   "nbconvert_exporter": "python",
   "pygments_lexer": "ipython3",
   "version": "3.11.1"
  }
 },
 "nbformat": 4,
 "nbformat_minor": 2
}

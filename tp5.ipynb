{
 "cells": [
  {
   "cell_type": "code",
   "execution_count": 1,
   "metadata": {},
   "outputs": [],
   "source": [
    "import numpy as np"
   ]
  },
  {
   "cell_type": "markdown",
   "metadata": {},
   "source": [
    "On veut calculer le produit de deux matrics $A$ et $B$ noté $C = AB$ de taille $n \\times n$.\n",
    "\n",
    "# Methode de l'exercice 21.\n",
    "\n",
    "On a $C_{i,j} = \\sum_{k=1}^n A_{i,k} B_{k,j}$.\n"
   ]
  },
  {
   "cell_type": "code",
   "execution_count": 14,
   "metadata": {},
   "outputs": [],
   "source": [
    "def classic_matrix_mult(A,B):\n",
    "    n = A.shape[0]\n",
    "    C = np.zeros((n,n))\n",
    "    for i in range(n):\n",
    "        for j in range(n):\n",
    "            for k in range(n):\n",
    "                C[i,j] += A[i,k]*B[k,j]\n",
    "\n",
    "    return C"
   ]
  },
  {
   "cell_type": "markdown",
   "metadata": {},
   "source": [
    "# Méthode de l'exercice 41\n",
    "\n",
    "Divide and conquer en 8 sous matrices"
   ]
  },
  {
   "cell_type": "code",
   "execution_count": 15,
   "metadata": {},
   "outputs": [],
   "source": [
    "def divide_and_conquer_matrix_mult(A,B):\n",
    "    n = A.shape[0]\n",
    "    if n == 1:\n",
    "        return np.array([[A[0,0]*B[0,0]]])\n",
    "    else:\n",
    "        m = n//2\n",
    "        A11 = A[:m,:m]\n",
    "        A12 = A[:m,m:]\n",
    "        A21 = A[m:,:m]\n",
    "        A22 = A[m:,m:]\n",
    "        B11 = B[:m,:m]\n",
    "        B12 = B[:m,m:]\n",
    "        B21 = B[m:,:m]\n",
    "        B22 = B[m:,m:]\n",
    "        C11 = divide_and_conquer_matrix_mult(A11,B11) + divide_and_conquer_matrix_mult(A12,B21)\n",
    "        C12 = divide_and_conquer_matrix_mult(A11,B12) + divide_and_conquer_matrix_mult(A12,B22)\n",
    "        C21 = divide_and_conquer_matrix_mult(A21,B11) + divide_and_conquer_matrix_mult(A22,B21)\n",
    "        C22 = divide_and_conquer_matrix_mult(A21,B12) + divide_and_conquer_matrix_mult(A22,B22)\n",
    "        C = np.zeros((n,n))\n",
    "        C[:m,:m] = C11\n",
    "        C[:m,m:] = C12\n",
    "        C[m:,:m] = C21\n",
    "        C[m:,m:] = C22\n",
    "        return C"
   ]
  },
  {
   "cell_type": "markdown",
   "metadata": {},
   "source": [
    "# Exercice 2"
   ]
  },
  {
   "cell_type": "code",
   "execution_count": 16,
   "metadata": {},
   "outputs": [],
   "source": [
    "def matrix_plus(A,B):\n",
    "    n = A.shape[0]\n",
    "    C = np.zeros((n,n))\n",
    "    for i in range(n):\n",
    "        for j in range(n):\n",
    "            C[i,j] = A[i,j] + B[i,j]\n",
    "    return C"
   ]
  },
  {
   "cell_type": "code",
   "execution_count": 17,
   "metadata": {},
   "outputs": [],
   "source": [
    "def matrix_minus(A,B):\n",
    "    n = A.shape[0]\n",
    "    C = np.zeros((n,n))\n",
    "    for i in range(n):\n",
    "        for j in range(n):\n",
    "            C[i,j] = A[i,j] - B[i,j]\n",
    "    return C"
   ]
  },
  {
   "cell_type": "code",
   "execution_count": 18,
   "metadata": {},
   "outputs": [],
   "source": [
    "def mult_strassen(A,B):\n",
    "    n = A.shape[0]\n",
    "    if n == 1:\n",
    "        return np.array([[A[0,0]*B[0,0]]])\n",
    "    else:\n",
    "        m = n//2\n",
    "        A11 = A[:m,:m]\n",
    "        A12 = A[:m,m:]\n",
    "        A21 = A[m:,:m]\n",
    "        A22 = A[m:,m:]\n",
    "        B11 = B[:m,:m]\n",
    "        B12 = B[:m,m:]\n",
    "        B21 = B[m:,:m]\n",
    "        B22 = B[m:,m:]\n",
    "        P1 = mult_strassen(matrix_plus(A11,A22),matrix_plus(B11,B22))\n",
    "        P2 = mult_strassen(matrix_plus(A21,A22),B11)\n",
    "        P3 = mult_strassen(A11,matrix_minus(B12,B22))\n",
    "        P4 = mult_strassen(A22,matrix_minus(B21,B11))\n",
    "        P5 = mult_strassen(matrix_plus(A11,A12),B22)\n",
    "        P6 = mult_strassen(matrix_minus(A21,A11),matrix_plus(B12,B11))\n",
    "        P7 = mult_strassen(matrix_minus(A12,A22),matrix_plus(B21,B22))\n",
    "        C11 = matrix_plus(matrix_minus(matrix_plus(P1,P4),P5),P7)\n",
    "        C12 = matrix_plus(P3,P5)\n",
    "        C21 = matrix_plus(P2,P4)\n",
    "        C22 = matrix_plus(matrix_minus(matrix_plus(P1,P3),P2),P6)\n",
    "        C = np.zeros((n,n))\n",
    "        C[:m,:m] = C11\n",
    "        C[:m,m:] = C12\n",
    "        C[m:,:m] = C21\n",
    "        C[m:,m:] = C22\n",
    "        return C"
   ]
  },
  {
   "cell_type": "markdown",
   "metadata": {},
   "source": [
    "On teste que les algos renvoient la même chose sur quelques exemples"
   ]
  },
  {
   "cell_type": "code",
   "execution_count": 19,
   "metadata": {},
   "outputs": [
    {
     "name": "stdout",
     "output_type": "stream",
     "text": [
      "[[19. 22.]\n",
      " [43. 50.]]\n",
      "[[19. 22.]\n",
      " [43. 50.]]\n",
      "[[19. 22.]\n",
      " [43. 50.]]\n"
     ]
    }
   ],
   "source": [
    "A = np.array([[1,2],[3,4]])\n",
    "B = np.array([[5,6],[7,8]])\n",
    "print(classic_matrix_mult(A,B))\n",
    "print(divide_and_conquer_matrix_mult(A,B))\n",
    "print(mult_strassen(A,B))"
   ]
  },
  {
   "cell_type": "code",
   "execution_count": 26,
   "metadata": {},
   "outputs": [
    {
     "name": "stdout",
     "output_type": "stream",
     "text": [
      "True\n",
      "True\n"
     ]
    }
   ],
   "source": [
    "A = np.random.randint(10,size=(8,8))\n",
    "B = np.random.randint(10,size=(8,8))\n",
    "print((classic_matrix_mult(A,B) == divide_and_conquer_matrix_mult(A,B)).all())\n",
    "print((classic_matrix_mult(A,B) == mult_strassen(A,B)).all())"
   ]
  },
  {
   "cell_type": "markdown",
   "metadata": {},
   "source": [
    "# Exercice 3 \n",
    "\n",
    "Complexité pire cas des versions naïves : $\\Theta(n^3)$\n",
    "\n",
    "Complexité pire cas de l'algorithme de Strassen :\n",
    "\n",
    "$T(n) = 7T(n/2) + \\Theta(n^2)$\n",
    "\n",
    "On a $log_b(a) = log_2(7) > 2$ donc $T(n) = \\Theta(n^{log_2(7)})$"
   ]
  },
  {
   "cell_type": "code",
   "execution_count": 31,
   "metadata": {},
   "outputs": [
    {
     "name": "stdout",
     "output_type": "stream",
     "text": [
      "0.23881745338439941\n",
      "0.9493660926818848\n",
      "2.001481294631958\n",
      "0.0050201416015625\n"
     ]
    }
   ],
   "source": [
    "import time\n",
    "\n",
    "n_trys = 1000\n",
    "\n",
    "total_time_classic = 0\n",
    "total_time_divide = 0\n",
    "total_time_strassen = 0\n",
    "total_time_numpy = 0\n",
    "\n",
    "for i in range(n_trys):\n",
    "    A = np.random.randint(10,size=(8,8))\n",
    "    B = np.random.randint(10,size=(8,8))\n",
    "    t0 = time.time()\n",
    "    classic_matrix_mult(A,B)\n",
    "    t1 = time.time()\n",
    "    divide_and_conquer_matrix_mult(A,B)\n",
    "    t2 = time.time()\n",
    "    mult_strassen(A,B)\n",
    "    t3 = time.time()\n",
    "    np.dot(A,B)\n",
    "    t4 = time.time()\n",
    "    total_time_classic += t1-t0\n",
    "    total_time_divide += t2-t1\n",
    "    total_time_strassen += t3-t2\n",
    "    total_time_numpy += t4-t3\n",
    "\n",
    "\n",
    "print(total_time_classic)\n",
    "print(total_time_divide)\n",
    "print(total_time_strassen)\n",
    "print(total_time_numpy)"
   ]
  },
  {
   "cell_type": "markdown",
   "metadata": {},
   "source": [
    "On constate que l'algo de Strassen est le plus long. Explication : la constante associée à l'algo de Strassen est grande, donc sur les petites matrices il sera plus long. Pour que l'algo de Strassen devienne plus efficace, il faut tester sur des matrices bien plus grandes.\n",
    "\n",
    "La fonction $np.dot$ de la bibliothèque numpy est encore plus rapide car ils utilisent des fonctions codées en C et non en python pour calculer le résultat du produit (et le C est bien plus efficace que le python)."
   ]
  }
 ],
 "metadata": {
  "kernelspec": {
   "display_name": "Python 3",
   "language": "python",
   "name": "python3"
  },
  "language_info": {
   "codemirror_mode": {
    "name": "ipython",
    "version": 3
   },
   "file_extension": ".py",
   "mimetype": "text/x-python",
   "name": "python",
   "nbconvert_exporter": "python",
   "pygments_lexer": "ipython3",
   "version": "3.11.1"
  }
 },
 "nbformat": 4,
 "nbformat_minor": 2
}
